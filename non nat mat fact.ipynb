{
 "cells": [
  {
   "cell_type": "markdown",
   "id": "4114e50d-1e15-4756-bd58-45b699c8fcce",
   "metadata": {},
   "source": [
    "1. The purpose of this notebook is to fill in the missing MovieLens-1M ratings, to report the RMSE that results, and to discuss why this is not an effective way compared to results obtained in Homework 3.  To run the notebook for yourself, make sure to have downloaded the movie data files, have all relevant python librairies installed, and that all paths are set to your actual file locations.  The link to the MovieLen-1M ratings is provided as https://www.kaggle.com/datasets/odedgolden/movielens-1m-dataset. Iterations can be reduced to 300 on slower machines and still result in RMSE around those with this notebook's 1000 iterations."
   ]
  },
  {
   "cell_type": "code",
   "execution_count": 1,
   "id": "cacd1bc6-b186-4c9a-9931-965320d78119",
   "metadata": {},
   "outputs": [
    {
     "name": "stdout",
     "output_type": "stream",
     "text": [
      "Path exists: True\n",
      "ratings.dat present: True\n"
     ]
    }
   ],
   "source": [
    "from pathlib import Path\n",
    "import pandas as pd, numpy as np\n",
    "from sklearn.model_selection import train_test_split\n",
    "from sklearn.decomposition import NMF\n",
    "from sklearn.metrics import mean_squared_error\n",
    "\n",
    "# Folder that contains BBC files + movies.dat / ratings.dat / users.dat\n",
    "# Set The path to your personal path to run the notebook\n",
    "DATA_DIR = (\n",
    "    Path.home()\n",
    "    / \"Documents\"\n",
    "    / \"University Degrees\"\n",
    "    / \"University of Colorado Boulder\"\n",
    "    / \"Current Courses\"\n",
    "    / \"CSCA 5632 Unsupervised Algorithms in Machine Learning (IN PROGRESS - Active - Assignments Remain)\"\n",
    "    / \"Week 4\"\n",
    ")\n",
    "\n",
    "ratings_file = DATA_DIR / \"ratings.dat\"   \n",
    "movies_file  = DATA_DIR / \"movies.dat\"    \n",
    "users_file   = DATA_DIR / \"users.dat\"     \n",
    "\n",
    "print(\"Path exists:\", DATA_DIR.exists())\n",
    "print(\"ratings.dat present:\", ratings_file.exists())\n"
   ]
  },
  {
   "cell_type": "markdown",
   "id": "b5268228-4238-4db1-ba65-215255c08f73",
   "metadata": {},
   "source": [
    "This next cell acts to confirm that the data is correctly loaded."
   ]
  },
  {
   "cell_type": "code",
   "execution_count": 2,
   "id": "d9e693fc-3827-4c8c-98a6-3788ed786ae7",
   "metadata": {},
   "outputs": [
    {
     "name": "stdout",
     "output_type": "stream",
     "text": [
      "   userId  movieId  rating\n",
      "0       1     1193       5\n",
      "1       1      661       3\n",
      "2       1      914       3\n",
      "3       1     3408       4\n",
      "4       1     2355       5\n",
      "Shape: (1000209, 3) Unique users: 6040 Unique items: 3706\n"
     ]
    }
   ],
   "source": [
    "cols = [\"userId\", \"movieId\", \"rating\", \"timestamp\"]\n",
    "ratings = pd.read_csv(\n",
    "    ratings_file,\n",
    "    sep=\"::\",\n",
    "    names=cols,\n",
    "    engine=\"python\",\n",
    "    usecols=[0, 1, 2]          \n",
    ")\n",
    "\n",
    "print(ratings.head())\n",
    "print(\"Shape:\", ratings.shape, \"Unique users:\", ratings.userId.nunique(),\n",
    "      \"Unique items:\", ratings.movieId.nunique())\n",
    "\n"
   ]
  },
  {
   "cell_type": "markdown",
   "id": "d7d2b5cf-30b6-4c55-b626-013870b2bb69",
   "metadata": {},
   "source": [
    "The metadata is not used by non-negative matrix factorization, but is included for hybrid models and tuning."
   ]
  },
  {
   "cell_type": "code",
   "execution_count": 3,
   "id": "f79db432-02be-46a0-ac70-4dfaaafec907",
   "metadata": {},
   "outputs": [
    {
     "name": "stdout",
     "output_type": "stream",
     "text": [
      "movies: (3883, 3) users: (6040, 5)\n",
      "   movieId                    title                        genres\n",
      "0        1         Toy Story (1995)   Animation|Children's|Comedy\n",
      "1        2           Jumanji (1995)  Adventure|Children's|Fantasy\n",
      "2        3  Grumpier Old Men (1995)                Comedy|Romance\n"
     ]
    }
   ],
   "source": [
    "cols_mov = [\"movieId\", \"title\", \"genres\"]\n",
    "movies   = pd.read_csv(\n",
    "    movies_file,\n",
    "    sep=\"::\",\n",
    "    names=cols_mov,\n",
    "    engine=\"python\",\n",
    "    encoding=\"latin-1\"      #fixes UnicodeDecodeError\n",
    ")\n",
    "\n",
    "cols_usr = [\"userId\", \"gender\", \"age\", \"occupation\", \"zip\"]\n",
    "users    = pd.read_csv(\n",
    "    users_file,\n",
    "    sep=\"::\",\n",
    "    names=cols_usr,\n",
    "    engine=\"python\",\n",
    "    encoding=\"latin-1\"      # same safeguard as above for UnicodeDecodeError\n",
    ")\n",
    "\n",
    "print(\"movies:\", movies.shape, \"users:\", users.shape)\n",
    "print(movies.head(3))"
   ]
  },
  {
   "cell_type": "markdown",
   "id": "7ff913ce-19a6-4274-b3a0-e933975ebd63",
   "metadata": {},
   "source": [
    "This is a custom 80/20 split per user to ensure all users appear in train."
   ]
  },
  {
   "cell_type": "code",
   "execution_count": 4,
   "id": "a4245451-1645-4a5b-a8b9-0612aae23c8f",
   "metadata": {},
   "outputs": [
    {
     "name": "stdout",
     "output_type": "stream",
     "text": [
      "(802553, 3) (197656, 3)\n"
     ]
    }
   ],
   "source": [
    "def stratified_holdout(df, test_size=0.2, seed=42):\n",
    "    np.random.seed(seed)\n",
    "    test_idx = []\n",
    "    for u, grp in df.groupby(\"userId\"):\n",
    "        # ensures at least one rating in the train\n",
    "        n_test = max(1, int(len(grp) * test_size))\n",
    "        test_idx += list(grp.sample(n_test, random_state=seed).index)\n",
    "    test = df.loc[test_idx]\n",
    "    train = df.drop(index=test_idx)\n",
    "    return train.reset_index(drop=True), test.reset_index(drop=True)\n",
    "\n",
    "train_ratings, test_ratings = stratified_holdout(ratings, 0.2)\n",
    "print(train_ratings.shape, test_ratings.shape)"
   ]
  },
  {
   "cell_type": "markdown",
   "id": "4b7c3408-1441-44a9-8b97-2df6855b2b82",
   "metadata": {},
   "source": [
    "Unobserved entries get forced to zero."
   ]
  },
  {
   "cell_type": "code",
   "execution_count": 5,
   "id": "0c78b2e1-8dd4-4678-a37f-98024a22de70",
   "metadata": {},
   "outputs": [],
   "source": [
    "n_users  = ratings.userId.nunique()\n",
    "n_items  = ratings.movieId.nunique()\n",
    "\n",
    "user_map  = {u:i for i,u in enumerate(ratings.userId.unique())}\n",
    "item_map  = {m:i for i,m in enumerate(ratings.movieId.unique())}\n",
    "\n",
    "def df_to_matrix(df):\n",
    "    mat = np.zeros((n_users, n_items), dtype=np.float32)\n",
    "    for row in df.itertuples(index=False):\n",
    "        mat[user_map[row.userId], item_map[row.movieId]] = row.rating\n",
    "    return mat\n",
    "\n",
    "R_train = df_to_matrix(train_ratings)"
   ]
  },
  {
   "cell_type": "markdown",
   "id": "066d6765-7199-4880-ab79-466a5b278818",
   "metadata": {},
   "source": [
    "Sets parameters and leaves all other parameters at default to provide a straight baseline."
   ]
  },
  {
   "cell_type": "code",
   "execution_count": 6,
   "id": "85cf7e88-f0c0-47f0-8f26-69524ea1f1eb",
   "metadata": {},
   "outputs": [],
   "source": [
    "k = 20                     # latent factors\n",
    "nmf = NMF(n_components=k, init=\"random\",\n",
    "          solver=\"mu\",     # multiplicative update\n",
    "          beta_loss=\"frobenius\",\n",
    "          max_iter=1000, random_state=0)\n",
    "W = nmf.fit_transform(R_train)   # shape (users, k)\n",
    "H = nmf.components_             # shape (k, items)\n",
    "R_pred_full = np.dot(W, H)      # reconstructed ratings"
   ]
  },
  {
   "cell_type": "markdown",
   "id": "cbb4093a-44c7-499f-ae6c-98fe07c459fb",
   "metadata": {},
   "source": [
    "Shows that the RMSE is much worse than the RMSE values obtained in Homework 3, showing that applying scikit-learn's NMF to sparse ratings matrix does not work well."
   ]
  },
  {
   "cell_type": "code",
   "execution_count": 7,
   "id": "74818cce-ccc7-4d78-84a1-40e48f960593",
   "metadata": {},
   "outputs": [
    {
     "name": "stdout",
     "output_type": "stream",
     "text": [
      "RMSE (sklearn NMF, k=20): 2.7461\n"
     ]
    }
   ],
   "source": [
    "def predict_row(row):\n",
    "    u = user_map[row.userId]; i = item_map[row.movieId]\n",
    "    return R_pred_full[u, i]\n",
    "\n",
    "test_ratings[\"pred\"] = test_ratings.apply(predict_row, axis=1)\n",
    "rmse = np.sqrt(\n",
    "    ((test_ratings[\"rating\"] - test_ratings[\"pred\"]) ** 2).mean()\n",
    ")\n",
    "print(f\"RMSE (sklearn NMF, k={k}): {rmse:.4f}\")"
   ]
  },
  {
   "cell_type": "markdown",
   "id": "1cb0abaf-b4a2-4c18-8c55-26f7d22e1ebe",
   "metadata": {},
   "source": [
    "2. The results show a NMF giving a RMSE of 2.7461, which is significantly higher than the values around 1.0 obtained from simple baseline or similarity-based methods.\n",
    "\n",
    "The reasons for this are due to this algorithm not being optimised for large recommender matrics, the lack of bias terms, all entries having equal weightings, defaults overfitting sparse data, and predictions getting biased downwards due to scikit-learn minimizing errors over entries of zeroes.\n",
    "\n",
    "There are multiple potential ways to improve this, such as but not limited to adding global and user and item bias terms then factorizing the residuals, using recommender specific libraries that treat missing values as unknown, or potentially combining MF with k-NN similarity.  These fixes would likely result in RMSE at similar levels to those obtained in Homework 3."
   ]
  }
 ],
 "metadata": {
  "kernelspec": {
   "display_name": "Python 3 (ipykernel)",
   "language": "python",
   "name": "python3"
  },
  "language_info": {
   "codemirror_mode": {
    "name": "ipython",
    "version": 3
   },
   "file_extension": ".py",
   "mimetype": "text/x-python",
   "name": "python",
   "nbconvert_exporter": "python",
   "pygments_lexer": "ipython3",
   "version": "3.13.2"
  }
 },
 "nbformat": 4,
 "nbformat_minor": 5
}
